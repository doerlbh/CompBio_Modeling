{
 "metadata": {
  "name": "",
  "signature": "sha256:0936e15ccb28902d87415df9f98f757654d0c61a7c74400c92c0553c6bbcf91d"
 },
 "nbformat": 3,
 "nbformat_minor": 0,
 "worksheets": [
  {
   "cells": [
    {
     "cell_type": "markdown",
     "metadata": {},
     "source": [
      "This [IPython](http://ipython.org/) notebook is a direct translation of Chapter 1 of\n",
      "\n",
      ">D. J. Higham and N.J. Higham.  \n",
      ">[MATLAB Guide](http://www.ec-securehost.com/SIAM/ot92.html), Second edition,  \n",
      ">Society for Industrial and Applied Mathematics, Philadelphia, PA, USA,  \n",
      ">2005, ISBN 0-89871-578-4\n",
      "\n",
      "with MATLAB code converted to equivalent Python/Numpy (and IPython/Matplotlib/Scipy) code. There are a small number of additions in the text to address Python/Numpy/IPython differences and additions.  You can find out more about IPython and the IPython Notebook [here](http://ipython.org/) and in reference [2].  All the errors here are, of course, mine.  I hope you find it useful.  \n",
      "\n",
      "Don MacMillen:    don (sometimes) at macmillen dot net\n",
      "\n",
      "#Chapter 1 A Brief Tutorial#\n",
      "\n",
      "The best way to learn Python/Numpy is by trying it yourself, and hence we begin with a whirlwind tour. Working through the examples below will give you a feel for the way that Python/Numpy operates and an appreciation of its power and \ufb02exibility. \n",
      "\n",
      "The tutorial is entirely independent of the rest of the book\u2014all the Python/Numpy features introduced are discussed in greater detail in the subsequent chapters. Indeed, in order to keep this chapter brief, we have not explained all the functions used here. You can use the index in [1] to \ufb01nd out more about particular topics that interest you. \n",
      "\n",
      "We will be using the IPython interactive shell as well as the IPython notebook (which is what you are reading now) throughout this tutorial.  You can install these by following the directions at [IPython install](http://ipython.org/install.html). This tutorial contains commands for you to type at the IPython command line. Alternatively, if you are viewing this notebook in a \"live\" mode served from a local IPython notebook server, you can directly modify any of the cells and rerun the cell.  Just be aware that in some cases you may need to choose the \"Run All\" option from the cell drop down menu to satisfy intercell dependences.\n",
      "\n",
      "In the last part of this brief tutorial we give examples of script files and functions. These \ufb01les are short, so you can type them in quickly or cut and paste them into an IPython shell (using the %cpaste magic), or you can just modify values in place in the IPython notebook and re-evaluate the cell. You should experiment as you proceed, keeping the following points in mind. \n",
      "\n",
      "* Upper and lower case characters are not equivalent (Python/Numpy are case sensitive). \n",
      "* Typing the name of a variable will cause IPython to display its current value. \n",
      "* Python/Numpy uses parentheses, ( ), square brackets, [ ], and curly braces, { }, and these are not interchangeable. \n",
      "* In the IPython shell, the up arrow and down arrow keys can be used to scroll through your previous commands. Also, an old command can be recalled by typing the first few characters followed by up arrow. You can also use ctrl-p (type p while holding the control key down) to scroll back through the command history stack.\n",
      "* You can type help(topic) to access online help on the command, function, or object topic. Note that hyperlinks, indicated by underlines, are provided that will take you to related help items and the Help browser. \n",
      "* If you press the tab key after partially typing a function or variable name, IPython will attempt to complete it, offering you a selection of choices if there is more than one possible completion. \n",
      "* You can quit IPython by typing exit or quit or ctrl-d twice.\n",
      "\n",
      "Having entered the IPython command, you should work through this tutorial by typing in the text that appears after the IPython prompt, 'In [n]:' where n is a number which indicates the command's location in the command stack, in the command window. After showing you what to type, we display the output that is produced. We begin with arrays.  In native Python arrays are lists denoted with the square bracket syntax.  However, we want Numpy arrays, so first you import the numpy module and shorten the prefix to \"np\" (this is a common usage convention)"
     ]
    },
    {
     "cell_type": "code",
     "collapsed": false,
     "input": [
      "%matplotlib inline\n",
      "import numpy as np\n",
      "a = np.array([1, 2, 3])\n",
      "a"
     ],
     "language": "python",
     "metadata": {},
     "outputs": [
      {
       "metadata": {},
       "output_type": "pyout",
       "prompt_number": 14,
       "text": [
        "array([1, 2, 3])"
       ]
      }
     ],
     "prompt_number": 14
    },
    {
     "cell_type": "markdown",
     "metadata": {},
     "source": [
      "If you type in the three lines listed in the box 'In[1]:' above into the IPython shell, then you will see the result listed in 'Out[1]:'\n",
      "\n",
      "This example sets up a 3 element array, which is also called a vector.  In some other languages, a distinction is made between a row vector and a column vector, but that is not the case in Numpy. If you define a new vector c"
     ]
    },
    {
     "cell_type": "code",
     "collapsed": false,
     "input": [
      "c = np.array([4, 5, 6])\n",
      "c"
     ],
     "language": "python",
     "metadata": {},
     "outputs": [
      {
       "metadata": {},
       "output_type": "pyout",
       "prompt_number": 15,
       "text": [
        "array([4, 5, 6])"
       ]
      }
     ],
     "prompt_number": 15
    },
    {
     "cell_type": "markdown",
     "metadata": {},
     "source": [
      "Now you can multiply the arrays a and c:"
     ]
    },
    {
     "cell_type": "code",
     "collapsed": false,
     "input": [
      "a*c"
     ],
     "language": "python",
     "metadata": {},
     "outputs": [
      {
       "metadata": {},
       "output_type": "pyout",
       "prompt_number": 16,
       "text": [
        "array([ 4, 10, 18])"
       ]
      }
     ],
     "prompt_number": 16
    },
    {
     "cell_type": "markdown",
     "metadata": {},
     "source": [
      "Here, you performed an element by element mulitpy of the two vectors, not the scalar or dot product that some other languages would have done.  Notice that in this example, the product a\\*c was not explicitly assigned to any variable.  When there is no explicit assignment, IPython automatically assigns the result of the expression to the variable named '\\_' (underscore) as you can see by the following:"
     ]
    },
    {
     "cell_type": "code",
     "collapsed": false,
     "input": [
      "_"
     ],
     "language": "python",
     "metadata": {},
     "outputs": [
      {
       "metadata": {},
       "output_type": "pyout",
       "prompt_number": 17,
       "text": [
        "array([ 4, 10, 18])"
       ]
      }
     ],
     "prompt_number": 17
    },
    {
     "cell_type": "markdown",
     "metadata": {},
     "source": [
      "If you wanted to get the dot product of the two vectors, use the dot function from numpy, as in the following"
     ]
    },
    {
     "cell_type": "code",
     "collapsed": false,
     "input": [
      "np.dot(a, c)"
     ],
     "language": "python",
     "metadata": {},
     "outputs": [
      {
       "metadata": {},
       "output_type": "pyout",
       "prompt_number": 18,
       "text": [
        "32"
       ]
      }
     ],
     "prompt_number": 18
    },
    {
     "cell_type": "markdown",
     "metadata": {},
     "source": [
      "Inputs to Python functions are speci\ufb01ed after the function name and within parentheses, as you just saw above with the 'dot' function from the numpy module. You may also form the outer product of the two vectors by calling another function from numpy"
     ]
    },
    {
     "cell_type": "code",
     "collapsed": false,
     "input": [
      "A = np.outer(c, a)\n",
      "A"
     ],
     "language": "python",
     "metadata": {},
     "outputs": [
      {
       "metadata": {},
       "output_type": "pyout",
       "prompt_number": 19,
       "text": [
        "array([[ 4,  8, 12],\n",
        "       [ 5, 10, 15],\n",
        "       [ 6, 12, 18]])"
       ]
      }
     ],
     "prompt_number": 19
    },
    {
     "cell_type": "markdown",
     "metadata": {},
     "source": [
      "Here the answer is a 3-by-3 array that has been assigned to A.\n",
      "\n",
      "The product a \\* a, since the '\\*' operation is element-wise, is equivalent to squaring a, which uses the '\\*\\*' operator"
     ]
    },
    {
     "cell_type": "code",
     "collapsed": false,
     "input": [
      "a * a"
     ],
     "language": "python",
     "metadata": {},
     "outputs": [
      {
       "metadata": {},
       "output_type": "pyout",
       "prompt_number": 20,
       "text": [
        "array([1, 4, 9])"
       ]
      }
     ],
     "prompt_number": 20
    },
    {
     "cell_type": "code",
     "collapsed": false,
     "input": [
      "b = a ** 2\n",
      "b"
     ],
     "language": "python",
     "metadata": {},
     "outputs": [
      {
       "metadata": {},
       "output_type": "pyout",
       "prompt_number": 21,
       "text": [
        "array([1, 4, 9])"
       ]
      }
     ],
     "prompt_number": 21
    },
    {
     "cell_type": "markdown",
     "metadata": {},
     "source": [
      "Arithmetic operations on matrices and vectors come in two distinct forms. Array sense operations are de\ufb01ned to act elementwise and, as mentioned before, are the default behavior of Numpy.\n",
      "\n",
      "Matrix sense operations are based on the normal rules of linear algebra and are obtained with either matrix objects, or calling the specific matrix function from numpy.  For matrix objects, the usual symbols +, -, *."
     ]
    },
    {
     "cell_type": "code",
     "collapsed": false,
     "input": [
      "am = np.matrix(a)\n",
      "cm = np.matrix(c)\n",
      "am * cm.T"
     ],
     "language": "python",
     "metadata": {},
     "outputs": [
      {
       "metadata": {},
       "output_type": "pyout",
       "prompt_number": 22,
       "text": [
        "matrix([[32]])"
       ]
      }
     ],
     "prompt_number": 22
    },
    {
     "cell_type": "markdown",
     "metadata": {},
     "source": [
      "Notice that you had to take the transpose of c in order to make it into a column vector.  For numpy matrix objects, there is a difference between row and column vectors.  Also, matrix object can only have one or two dimensions.  For instance, the numpy function 'ones' takes a tuple and returns a numpy array of that dimensionality. The following will give us a 3 by 3 by 3  array of ones."
     ]
    },
    {
     "cell_type": "code",
     "collapsed": false,
     "input": [
      "g = np.ones( (3, 3, 3) )\n",
      "g"
     ],
     "language": "python",
     "metadata": {},
     "outputs": [
      {
       "metadata": {},
       "output_type": "pyout",
       "prompt_number": 23,
       "text": [
        "array([[[ 1.,  1.,  1.],\n",
        "        [ 1.,  1.,  1.],\n",
        "        [ 1.,  1.,  1.]],\n",
        "\n",
        "       [[ 1.,  1.,  1.],\n",
        "        [ 1.,  1.,  1.],\n",
        "        [ 1.,  1.,  1.]],\n",
        "\n",
        "       [[ 1.,  1.,  1.],\n",
        "        [ 1.,  1.,  1.],\n",
        "        [ 1.,  1.,  1.]]])"
       ]
      }
     ],
     "prompt_number": 23
    },
    {
     "cell_type": "markdown",
     "metadata": {},
     "source": [
      "If you try to turn this into a matrix object, you will get an error"
     ]
    },
    {
     "cell_type": "code",
     "collapsed": false,
     "input": [
      "#h = np.matrix(g)\n",
      "print \"Error has a problem???\""
     ],
     "language": "python",
     "metadata": {},
     "outputs": [
      {
       "ename": "SyntaxError",
       "evalue": "invalid syntax (<ipython-input-24-0ea628c0e0dd>, line 2)",
       "output_type": "pyerr",
       "traceback": [
        "\u001b[1;36m  File \u001b[1;32m\"<ipython-input-24-0ea628c0e0dd>\"\u001b[1;36m, line \u001b[1;32m2\u001b[0m\n\u001b[1;33m    print \"Error has a problem???\"\u001b[0m\n\u001b[1;37m                                 ^\u001b[0m\n\u001b[1;31mSyntaxError\u001b[0m\u001b[1;31m:\u001b[0m invalid syntax\n"
       ]
      }
     ],
     "prompt_number": 24
    },
    {
     "cell_type": "markdown",
     "metadata": {},
     "source": [
      "Here you see how errors are displayed in Python.  You see the call stack from the top to the bottom and the error message that is finally displayed.\n",
      "\n",
      "Numpy has many mathematical functions that operate on arrays element wise when given an array argument. For example,"
     ]
    },
    {
     "cell_type": "code",
     "collapsed": false,
     "input": [
      "np.exp(a)"
     ],
     "language": "python",
     "metadata": {},
     "outputs": [
      {
       "metadata": {},
       "output_type": "pyout",
       "prompt_number": 25,
       "text": [
        "array([  2.71828183,   7.3890561 ,  20.08553692])"
       ]
      }
     ],
     "prompt_number": 25
    },
    {
     "cell_type": "code",
     "collapsed": false,
     "input": [
      "np.log(_)"
     ],
     "language": "python",
     "metadata": {},
     "outputs": [
      {
       "metadata": {},
       "output_type": "pyout",
       "prompt_number": 26,
       "text": [
        "array([ 1.,  2.,  3.])"
       ]
      }
     ],
     "prompt_number": 26
    },
    {
     "cell_type": "code",
     "collapsed": false,
     "input": [
      "np.sqrt(a)"
     ],
     "language": "python",
     "metadata": {},
     "outputs": [
      {
       "metadata": {},
       "output_type": "pyout",
       "prompt_number": 27,
       "text": [
        "array([ 1.        ,  1.41421356,  1.73205081])"
       ]
      }
     ],
     "prompt_number": 27
    },
    {
     "cell_type": "markdown",
     "metadata": {},
     "source": [
      "By default, Numpy displays \ufb02oating point numbers to 8 decimal digits, but always stores numbers and computes to the equivalent of 16 decimal digits. The output  format can be changed using the set_printoptions function"
     ]
    },
    {
     "cell_type": "code",
     "collapsed": false,
     "input": [
      "np.set_printoptions(precision=4)\n",
      "print (np.sqrt(a))"
     ],
     "language": "python",
     "metadata": {},
     "outputs": [
      {
       "output_type": "stream",
       "stream": "stdout",
       "text": [
        "[ 1.      1.4142  1.7321]\n"
       ]
      }
     ],
     "prompt_number": 28
    },
    {
     "cell_type": "markdown",
     "metadata": {},
     "source": [
      "You can find out much more about the function set_printoptions by using IPython's help command"
     ]
    },
    {
     "cell_type": "code",
     "collapsed": false,
     "input": [
      "help(np.set_printoptions)"
     ],
     "language": "python",
     "metadata": {},
     "outputs": [
      {
       "output_type": "stream",
       "stream": "stdout",
       "text": [
        "Help on function set_printoptions in module numpy.core.arrayprint:\n",
        "\n",
        "set_printoptions(precision=None, threshold=None, edgeitems=None, linewidth=None, suppress=None, nanstr=None, infstr=None, formatter=None)\n",
        "    Set printing options.\n",
        "    \n",
        "    These options determine the way floating point numbers, arrays and\n",
        "    other NumPy objects are displayed.\n",
        "    \n",
        "    Parameters\n",
        "    ----------\n",
        "    precision : int, optional\n",
        "        Number of digits of precision for floating point output (default 8).\n",
        "    threshold : int, optional\n",
        "        Total number of array elements which trigger summarization\n",
        "        rather than full repr (default 1000).\n",
        "    edgeitems : int, optional\n",
        "        Number of array items in summary at beginning and end of\n",
        "        each dimension (default 3).\n",
        "    linewidth : int, optional\n",
        "        The number of characters per line for the purpose of inserting\n",
        "        line breaks (default 75).\n",
        "    suppress : bool, optional\n",
        "        Whether or not suppress printing of small floating point values\n",
        "        using scientific notation (default False).\n",
        "    nanstr : str, optional\n",
        "        String representation of floating point not-a-number (default nan).\n",
        "    infstr : str, optional\n",
        "        String representation of floating point infinity (default inf).\n",
        "    formatter : dict of callables, optional\n",
        "        If not None, the keys should indicate the type(s) that the respective\n",
        "        formatting function applies to.  Callables should return a string.\n",
        "        Types that are not specified (by their corresponding keys) are handled\n",
        "        by the default formatters.  Individual types for which a formatter\n",
        "        can be set are::\n",
        "    \n",
        "            - 'bool'\n",
        "            - 'int'\n",
        "            - 'timedelta' : a `numpy.timedelta64`\n",
        "            - 'datetime' : a `numpy.datetime64`\n",
        "            - 'float'\n",
        "            - 'longfloat' : 128-bit floats\n",
        "            - 'complexfloat'\n",
        "            - 'longcomplexfloat' : composed of two 128-bit floats\n",
        "            - 'numpy_str' : types `numpy.string_` and `numpy.unicode_`\n",
        "            - 'str' : all other strings\n",
        "    \n",
        "        Other keys that can be used to set a group of types at once are::\n",
        "    \n",
        "            - 'all' : sets all types\n",
        "            - 'int_kind' : sets 'int'\n",
        "            - 'float_kind' : sets 'float' and 'longfloat'\n",
        "            - 'complex_kind' : sets 'complexfloat' and 'longcomplexfloat'\n",
        "            - 'str_kind' : sets 'str' and 'numpystr'\n",
        "    \n",
        "    See Also\n",
        "    --------\n",
        "    get_printoptions, set_string_function, array2string\n",
        "    \n",
        "    Notes\n",
        "    -----\n",
        "    `formatter` is always reset with a call to `set_printoptions`.\n",
        "    \n",
        "    Examples\n",
        "    --------\n",
        "    Floating point precision can be set:\n",
        "    \n",
        "    >>> np.set_printoptions(precision=4)\n",
        "    >>> print np.array([1.123456789])\n",
        "    [ 1.1235]\n",
        "    \n",
        "    Long arrays can be summarised:\n",
        "    \n",
        "    >>> np.set_printoptions(threshold=5)\n",
        "    >>> print np.arange(10)\n",
        "    [0 1 2 ..., 7 8 9]\n",
        "    \n",
        "    Small results can be suppressed:\n",
        "    \n",
        "    >>> eps = np.finfo(float).eps\n",
        "    >>> x = np.arange(4.)\n",
        "    >>> x**2 - (x + eps)**2\n",
        "    array([ -4.9304e-32,  -4.4409e-16,   0.0000e+00,   0.0000e+00])\n",
        "    >>> np.set_printoptions(suppress=True)\n",
        "    >>> x**2 - (x + eps)**2\n",
        "    array([-0., -0.,  0.,  0.])\n",
        "    \n",
        "    A custom formatter can be used to display array elements as desired:\n",
        "    \n",
        "    >>> np.set_printoptions(formatter={'all':lambda x: 'int: '+str(-x)})\n",
        "    >>> x = np.arange(3)\n",
        "    >>> x\n",
        "    array([int: 0, int: -1, int: -2])\n",
        "    >>> np.set_printoptions()  # formatter gets reset\n",
        "    >>> x\n",
        "    array([0, 1, 2])\n",
        "    \n",
        "    To put back the default options, you can use:\n",
        "    \n",
        "    >>> np.set_printoptions(edgeitems=3,infstr='inf',\n",
        "    ... linewidth=75, nanstr='nan', precision=8,\n",
        "    ... suppress=False, threshold=1000, formatter=None)\n",
        "\n"
       ]
      }
     ],
     "prompt_number": 29
    },
    {
     "cell_type": "markdown",
     "metadata": {},
     "source": [
      "You set precision back to 8 to get the default behavior"
     ]
    },
    {
     "cell_type": "code",
     "collapsed": false,
     "input": [
      "np.set_printoptions(precision=8)\n",
      "np.sqrt(a)"
     ],
     "language": "python",
     "metadata": {},
     "outputs": [
      {
       "metadata": {},
       "output_type": "pyout",
       "prompt_number": 30,
       "text": [
        "array([ 1.        ,  1.41421356,  1.73205081])"
       ]
      }
     ],
     "prompt_number": 30
    },
    {
     "cell_type": "markdown",
     "metadata": {},
     "source": [
      "Large or small numbers are displayed in exponential notation, with a power of 10 scale factor preceded by e:"
     ]
    },
    {
     "cell_type": "code",
     "collapsed": false,
     "input": [
      "2 ** -24"
     ],
     "language": "python",
     "metadata": {},
     "outputs": [
      {
       "metadata": {},
       "output_type": "pyout",
       "prompt_number": 31,
       "text": [
        "5.960464477539063e-08"
       ]
      }
     ],
     "prompt_number": 31
    },
    {
     "cell_type": "markdown",
     "metadata": {},
     "source": [
      "Various data analysis functions are also available.  "
     ]
    },
    {
     "cell_type": "code",
     "collapsed": false,
     "input": [
      "b.sum()"
     ],
     "language": "python",
     "metadata": {},
     "outputs": [
      {
       "metadata": {},
       "output_type": "pyout",
       "prompt_number": 32,
       "text": [
        "14"
       ]
      }
     ],
     "prompt_number": 32
    },
    {
     "cell_type": "code",
     "collapsed": false,
     "input": [
      "c.mean()"
     ],
     "language": "python",
     "metadata": {},
     "outputs": [
      {
       "metadata": {},
       "output_type": "pyout",
       "prompt_number": 33,
       "text": [
        "5.0"
       ]
      }
     ],
     "prompt_number": 33
    },
    {
     "cell_type": "markdown",
     "metadata": {},
     "source": [
      "Here you see an example of the object oriented nature of Numpy.  All Numpy arrays are of type \"ndarray\" and have many methods associated with them.  You can list them all by using a 'dir' command in IPython, use the following"
     ]
    },
    {
     "cell_type": "code",
     "collapsed": false,
     "input": [
      "dir(a)"
     ],
     "language": "python",
     "metadata": {},
     "outputs": [
      {
       "metadata": {},
       "output_type": "pyout",
       "prompt_number": 34,
       "text": [
        "['T',\n",
        " '__abs__',\n",
        " '__add__',\n",
        " '__and__',\n",
        " '__array__',\n",
        " '__array_finalize__',\n",
        " '__array_interface__',\n",
        " '__array_prepare__',\n",
        " '__array_priority__',\n",
        " '__array_struct__',\n",
        " '__array_wrap__',\n",
        " '__bool__',\n",
        " '__class__',\n",
        " '__contains__',\n",
        " '__copy__',\n",
        " '__deepcopy__',\n",
        " '__delattr__',\n",
        " '__delitem__',\n",
        " '__dir__',\n",
        " '__divmod__',\n",
        " '__doc__',\n",
        " '__eq__',\n",
        " '__float__',\n",
        " '__floordiv__',\n",
        " '__format__',\n",
        " '__ge__',\n",
        " '__getattribute__',\n",
        " '__getitem__',\n",
        " '__gt__',\n",
        " '__hash__',\n",
        " '__iadd__',\n",
        " '__iand__',\n",
        " '__ifloordiv__',\n",
        " '__ilshift__',\n",
        " '__imod__',\n",
        " '__imul__',\n",
        " '__index__',\n",
        " '__init__',\n",
        " '__int__',\n",
        " '__invert__',\n",
        " '__ior__',\n",
        " '__ipow__',\n",
        " '__irshift__',\n",
        " '__isub__',\n",
        " '__iter__',\n",
        " '__itruediv__',\n",
        " '__ixor__',\n",
        " '__le__',\n",
        " '__len__',\n",
        " '__lshift__',\n",
        " '__lt__',\n",
        " '__mod__',\n",
        " '__mul__',\n",
        " '__ne__',\n",
        " '__neg__',\n",
        " '__new__',\n",
        " '__or__',\n",
        " '__pos__',\n",
        " '__pow__',\n",
        " '__radd__',\n",
        " '__rand__',\n",
        " '__rdivmod__',\n",
        " '__reduce__',\n",
        " '__reduce_ex__',\n",
        " '__repr__',\n",
        " '__rfloordiv__',\n",
        " '__rlshift__',\n",
        " '__rmod__',\n",
        " '__rmul__',\n",
        " '__ror__',\n",
        " '__rpow__',\n",
        " '__rrshift__',\n",
        " '__rshift__',\n",
        " '__rsub__',\n",
        " '__rtruediv__',\n",
        " '__rxor__',\n",
        " '__setattr__',\n",
        " '__setitem__',\n",
        " '__setstate__',\n",
        " '__sizeof__',\n",
        " '__str__',\n",
        " '__sub__',\n",
        " '__subclasshook__',\n",
        " '__truediv__',\n",
        " '__xor__',\n",
        " 'all',\n",
        " 'any',\n",
        " 'argmax',\n",
        " 'argmin',\n",
        " 'argpartition',\n",
        " 'argsort',\n",
        " 'astype',\n",
        " 'base',\n",
        " 'byteswap',\n",
        " 'choose',\n",
        " 'clip',\n",
        " 'compress',\n",
        " 'conj',\n",
        " 'conjugate',\n",
        " 'copy',\n",
        " 'ctypes',\n",
        " 'cumprod',\n",
        " 'cumsum',\n",
        " 'data',\n",
        " 'diagonal',\n",
        " 'dot',\n",
        " 'dtype',\n",
        " 'dump',\n",
        " 'dumps',\n",
        " 'fill',\n",
        " 'flags',\n",
        " 'flat',\n",
        " 'flatten',\n",
        " 'getfield',\n",
        " 'imag',\n",
        " 'item',\n",
        " 'itemset',\n",
        " 'itemsize',\n",
        " 'max',\n",
        " 'mean',\n",
        " 'min',\n",
        " 'nbytes',\n",
        " 'ndim',\n",
        " 'newbyteorder',\n",
        " 'nonzero',\n",
        " 'partition',\n",
        " 'prod',\n",
        " 'ptp',\n",
        " 'put',\n",
        " 'ravel',\n",
        " 'real',\n",
        " 'repeat',\n",
        " 'reshape',\n",
        " 'resize',\n",
        " 'round',\n",
        " 'searchsorted',\n",
        " 'setfield',\n",
        " 'setflags',\n",
        " 'shape',\n",
        " 'size',\n",
        " 'sort',\n",
        " 'squeeze',\n",
        " 'std',\n",
        " 'strides',\n",
        " 'sum',\n",
        " 'swapaxes',\n",
        " 'take',\n",
        " 'tofile',\n",
        " 'tolist',\n",
        " 'tostring',\n",
        " 'trace',\n",
        " 'transpose',\n",
        " 'var',\n",
        " 'view']"
       ]
      }
     ],
     "prompt_number": 34
    },
    {
     "cell_type": "markdown",
     "metadata": {},
     "source": [
      "To find out more about any of these methods, use the help command"
     ]
    },
    {
     "cell_type": "code",
     "collapsed": false,
     "input": [
      "help(a.argmax)"
     ],
     "language": "python",
     "metadata": {},
     "outputs": [
      {
       "output_type": "stream",
       "stream": "stdout",
       "text": [
        "Help on built-in function argmax:\n",
        "\n",
        "argmax(...) method of numpy.ndarray instance\n",
        "    a.argmax(axis=None, out=None)\n",
        "    \n",
        "    Return indices of the maximum values along the given axis.\n",
        "    \n",
        "    Refer to `numpy.argmax` for full documentation.\n",
        "    \n",
        "    See Also\n",
        "    --------\n",
        "    numpy.argmax : equivalent function\n",
        "\n"
       ]
      }
     ],
     "prompt_number": 35
    },
    {
     "cell_type": "code",
     "collapsed": false,
     "input": [
      "np.pi"
     ],
     "language": "python",
     "metadata": {},
     "outputs": [
      {
       "metadata": {},
       "output_type": "pyout",
       "prompt_number": 36,
       "text": [
        "3.141592653589793"
       ]
      }
     ],
     "prompt_number": 36
    },
    {
     "cell_type": "code",
     "collapsed": false,
     "input": [
      "_"
     ],
     "language": "python",
     "metadata": {},
     "outputs": [
      {
       "metadata": {},
       "output_type": "pyout",
       "prompt_number": 37,
       "text": [
        "3.141592653589793"
       ]
      }
     ],
     "prompt_number": 37
    },
    {
     "cell_type": "code",
     "collapsed": false,
     "input": [
      "y = np.tan(np.pi/6)\n",
      "y"
     ],
     "language": "python",
     "metadata": {},
     "outputs": [
      {
       "metadata": {},
       "output_type": "pyout",
       "prompt_number": 38,
       "text": [
        "0.57735026918962573"
       ]
      }
     ],
     "prompt_number": 38
    },
    {
     "cell_type": "markdown",
     "metadata": {},
     "source": [
      "The Variable np.pi is a permanent Variable with value $\\pi$. The variable \"\\_\" always contains the most recent unassigned expression, as described earlier, so after the assignment to y, \"\\_\" still holds the Value $\\pi$.\n",
      "\n",
      "You may set up a two dimensional array by concatenating columns using the np.c_[ ] array notation"
     ]
    },
    {
     "cell_type": "code",
     "collapsed": false,
     "input": [
      "B = np.c_[[-3, 2, -1], [0, 5, 4], [-1, -7, 8]]\n",
      "B"
     ],
     "language": "python",
     "metadata": {},
     "outputs": [
      {
       "metadata": {},
       "output_type": "pyout",
       "prompt_number": 39,
       "text": [
        "array([[-3,  0, -1],\n",
        "       [ 2,  5, -7],\n",
        "       [-1,  4,  8]])"
       ]
      }
     ],
     "prompt_number": 39
    },
    {
     "cell_type": "markdown",
     "metadata": {},
     "source": [
      "At the heart of Numpy is a powerful range of linear algebra functions. For example, recalling that c is a 3-by-1 Vector, you may wish to solve the linear system $B * x = c$. This can be done with the solve function from the numpy.linalg module"
     ]
    },
    {
     "cell_type": "code",
     "collapsed": false,
     "input": [
      "import numpy.linalg as nl\n",
      "x = nl.solve(B, c)\n",
      "x"
     ],
     "language": "python",
     "metadata": {},
     "outputs": [
      {
       "metadata": {},
       "output_type": "pyout",
       "prompt_number": 40,
       "text": [
        "array([-1.29953917,  1.37788018, -0.10138249])"
       ]
      }
     ],
     "prompt_number": 40
    },
    {
     "cell_type": "code",
     "collapsed": false,
     "input": [
      "nl.norm(np.dot(B,x) - c) / (nl.norm(B) * nl.norm(x))"
     ],
     "language": "python",
     "metadata": {},
     "outputs": [
      {
       "metadata": {},
       "output_type": "pyout",
       "prompt_number": 41,
       "text": [
        "7.2040771407550849e-17"
       ]
      }
     ],
     "prompt_number": 41
    },
    {
     "cell_type": "markdown",
     "metadata": {},
     "source": [
      "Some times we see a 0 here, but we usually expect to see something nonzero because of rounding errors.\n",
      "\n",
      "The eigenvalues of B can be found using eig from the numpy.linalg module"
     ]
    },
    {
     "cell_type": "code",
     "collapsed": false,
     "input": [
      "np.set_printoptions(precision=5)  # make it the m*lab default\n",
      "w, _ = nl.eig(B)\n",
      "w"
     ],
     "language": "python",
     "metadata": {},
     "outputs": [
      {
       "metadata": {},
       "output_type": "pyout",
       "prompt_number": 42,
       "text": [
        "array([-3.13605+0.j     ,  6.56803+5.10454j,  6.56803-5.10454j])"
       ]
      }
     ],
     "prompt_number": 42
    },
    {
     "cell_type": "markdown",
     "metadata": {},
     "source": [
      "Notice two things about this code snippet.  First, nl.eig returns two values, w are the eigenvalues and v would be the eigenvectors. Since in this instance we did not want the eigenvectors we set it to the underscore '\\_', which is a common idiom in Python. Finally, the solution shows the j is the imaginary unit, $\\sqrt{-1}$.  To get the eigenvectors you can do the calculation again"
     ]
    },
    {
     "cell_type": "code",
     "collapsed": false,
     "input": [
      "w, v = nl.eig(B)\n",
      "v"
     ],
     "language": "python",
     "metadata": {},
     "outputs": [
      {
       "metadata": {},
       "output_type": "pyout",
       "prompt_number": 43,
       "text": [
        "array([[-0.98290+0.j     ,  0.03854+0.03928j,  0.03854-0.03928j],\n",
        "       [ 0.12656+0.j     ,  0.80053+0.j     ,  0.80053-0.j     ],\n",
        "       [-0.13372+0.j     , -0.16831-0.57254j, -0.16831+0.57254j]])"
       ]
      }
     ],
     "prompt_number": 43
    },
    {
     "cell_type": "markdown",
     "metadata": {},
     "source": [
      "The columns of v are the eigenvectors of B.\n",
      "\n",
      "To get vectors of evenly spaced values, use the np.arange function"
     ]
    },
    {
     "cell_type": "code",
     "collapsed": false,
     "input": [
      "v = np.arange(6)\n",
      "v"
     ],
     "language": "python",
     "metadata": {},
     "outputs": [
      {
       "metadata": {},
       "output_type": "pyout",
       "prompt_number": 44,
       "text": [
        "array([0, 1, 2, 3, 4, 5])"
       ]
      }
     ],
     "prompt_number": 44
    },
    {
     "cell_type": "markdown",
     "metadata": {},
     "source": [
      "Note that the default starting value is zero.  Also, as noted earlier, all Numpy arrays start at index zero and end at index n - 1 for an array of size n.\n",
      "\n",
      "Nonunit increments can be specified by a third number, often called the 'stride'."
     ]
    },
    {
     "cell_type": "code",
     "collapsed": false,
     "input": [
      "w = np.arange(2, 10, 3)\n",
      "w"
     ],
     "language": "python",
     "metadata": {},
     "outputs": [
      {
       "metadata": {},
       "output_type": "pyout",
       "prompt_number": 45,
       "text": [
        "array([2, 5, 8])"
       ]
      }
     ],
     "prompt_number": 45
    },
    {
     "cell_type": "code",
     "collapsed": false,
     "input": [
      "y = np.arange(1, 0, -0.25)\n",
      "y"
     ],
     "language": "python",
     "metadata": {},
     "outputs": [
      {
       "metadata": {},
       "output_type": "pyout",
       "prompt_number": 46,
       "text": [
        "array([ 1.  ,  0.75,  0.5 ,  0.25])"
       ]
      }
     ],
     "prompt_number": 46
    },
    {
     "cell_type": "markdown",
     "metadata": {},
     "source": [
      "This last example illustrates a peculiarity of Python and numpy, that the ending value or index is actually one position short of what you might expect.  In the previous example, to have the array actually increment down to zero, you have to specify an end value that is strictly *less* than 0 (but greater than -(0.25 + delta) ).  Here we just use -0.001."
     ]
    },
    {
     "cell_type": "code",
     "collapsed": false,
     "input": [
      "y = np.arange(1, -0.001, -0.25)\n",
      "y"
     ],
     "language": "python",
     "metadata": {},
     "outputs": [
      {
       "metadata": {},
       "output_type": "pyout",
       "prompt_number": 47,
       "text": [
        "array([ 1.  ,  0.75,  0.5 ,  0.25,  0.  ])"
       ]
      }
     ],
     "prompt_number": 47
    },
    {
     "cell_type": "markdown",
     "metadata": {},
     "source": [
      "You may construct big matrices out of little ones by using the numpy functions hstack and vstack and the previously mentioned c\\_[ ] and r\\_[ ] notations"
     ]
    },
    {
     "cell_type": "code",
     "collapsed": false,
     "input": [
      "C = np.c_[A, [8, 9, 10]]\n",
      "C"
     ],
     "language": "python",
     "metadata": {},
     "outputs": [
      {
       "metadata": {},
       "output_type": "pyout",
       "prompt_number": 48,
       "text": [
        "array([[ 4,  8, 12,  8],\n",
        "       [ 5, 10, 15,  9],\n",
        "       [ 6, 12, 18, 10]])"
       ]
      }
     ],
     "prompt_number": 48
    },
    {
     "cell_type": "code",
     "collapsed": false,
     "input": [
      "D = np.r_[B, B, B]\n",
      "D"
     ],
     "language": "python",
     "metadata": {},
     "outputs": [
      {
       "metadata": {},
       "output_type": "pyout",
       "prompt_number": 49,
       "text": [
        "array([[-3,  0, -1],\n",
        "       [ 2,  5, -7],\n",
        "       [-1,  4,  8],\n",
        "       [-3,  0, -1],\n",
        "       [ 2,  5, -7],\n",
        "       [-1,  4,  8],\n",
        "       [-3,  0, -1],\n",
        "       [ 2,  5, -7],\n",
        "       [-1,  4,  8]])"
       ]
      }
     ],
     "prompt_number": 49
    },
    {
     "cell_type": "code",
     "collapsed": false,
     "input": [
      "E = np.vstack((B, B, a))\n",
      "E"
     ],
     "language": "python",
     "metadata": {},
     "outputs": [
      {
       "metadata": {},
       "output_type": "pyout",
       "prompt_number": 50,
       "text": [
        "array([[-3,  0, -1],\n",
        "       [ 2,  5, -7],\n",
        "       [-1,  4,  8],\n",
        "       [-3,  0, -1],\n",
        "       [ 2,  5, -7],\n",
        "       [-1,  4,  8],\n",
        "       [ 1,  2,  3]])"
       ]
      }
     ],
     "prompt_number": 50
    },
    {
     "cell_type": "markdown",
     "metadata": {},
     "source": [
      "Notice well that np.vstack takes a *single* argument that is a tuple of arrays.  That way you can stack as many arrays as needed with a single call to vstack or just use the r\\_[ ] notation.\n",
      "\n",
      "The element in row i and column j of the matrix C (where i and j always start at 0) can be accessed as c[i, j]"
     ]
    },
    {
     "cell_type": "code",
     "collapsed": false,
     "input": [
      "C[1, 2]"
     ],
     "language": "python",
     "metadata": {},
     "outputs": [
      {
       "metadata": {},
       "output_type": "pyout",
       "prompt_number": 51,
       "text": [
        "15"
       ]
      }
     ],
     "prompt_number": 51
    },
    {
     "cell_type": "markdown",
     "metadata": {},
     "source": [
      "More generically, C[i1:i2, j1:j2] picks out the submatrix formed by the intersection of rows i1 to i2-1 and columns j1 to j2-1.  This type of operation on arrays is generally called *slicing*."
     ]
    },
    {
     "cell_type": "code",
     "collapsed": false,
     "input": [
      "C[1:3, 0:2]"
     ],
     "language": "python",
     "metadata": {},
     "outputs": [
      {
       "metadata": {},
       "output_type": "pyout",
       "prompt_number": 52,
       "text": [
        "array([[ 5, 10],\n",
        "       [ 6, 12]])"
       ]
      }
     ],
     "prompt_number": 52
    },
    {
     "cell_type": "markdown",
     "metadata": {},
     "source": [
      "You can build certain types of matrices automatically. For example, identities and matrices of zeros and ones can be constructed with eye, zeros, and ones:"
     ]
    },
    {
     "cell_type": "code",
     "collapsed": false,
     "input": [
      "I3 = np.eye(3)\n",
      "I3"
     ],
     "language": "python",
     "metadata": {},
     "outputs": [
      {
       "metadata": {},
       "output_type": "pyout",
       "prompt_number": 53,
       "text": [
        "array([[ 1.,  0.,  0.],\n",
        "       [ 0.,  1.,  0.],\n",
        "       [ 0.,  0.,  1.]])"
       ]
      }
     ],
     "prompt_number": 53
    },
    {
     "cell_type": "code",
     "collapsed": false,
     "input": [
      "Y = np.zeros((3,5))\n",
      "Y"
     ],
     "language": "python",
     "metadata": {},
     "outputs": [
      {
       "metadata": {},
       "output_type": "pyout",
       "prompt_number": 54,
       "text": [
        "array([[ 0.,  0.,  0.,  0.,  0.],\n",
        "       [ 0.,  0.,  0.,  0.,  0.],\n",
        "       [ 0.,  0.,  0.,  0.,  0.]])"
       ]
      }
     ],
     "prompt_number": 54
    },
    {
     "cell_type": "code",
     "collapsed": false,
     "input": [
      "Z = np.ones((2,2))\n",
      "Z"
     ],
     "language": "python",
     "metadata": {},
     "outputs": [
      {
       "metadata": {},
       "output_type": "pyout",
       "prompt_number": 55,
       "text": [
        "array([[ 1.,  1.],\n",
        "       [ 1.,  1.]])"
       ]
      }
     ],
     "prompt_number": 55
    },
    {
     "cell_type": "markdown",
     "metadata": {},
     "source": [
      "Note that these functions take a single argument which is a tuple (except for np.eye, which has a different interface). The first argument of the tuple speci\ufb01es the size of the first dimension of the array and so on. \n",
      "\n",
      "The methods rand and randm on an object returned from numpy.random.RandomState() do not take tuples.  They are convenience functions that have a similar interface to another math envirionment.  These two methods generate random entries from the uniform distribution over [0,1] and the normal (0,1) (ie zero mean with unit variance) distribution, respectively.\n",
      "\n",
      "Note that it is always good for you to intialize a new instance of RandomState when using random numbers.  This ensures that the random stream is for you alone, and you can reset the seed to make the sequence repeatable.  Here we set the starting seed to 20."
     ]
    },
    {
     "cell_type": "code",
     "collapsed": false,
     "input": [
      "rn = np.random.RandomState()  # initialize a new RandomState object\n",
      "rn.seed(20)\n",
      "F = rn.rand(3, 3)\n",
      "F"
     ],
     "language": "python",
     "metadata": {},
     "outputs": [
      {
       "metadata": {},
       "output_type": "pyout",
       "prompt_number": 56,
       "text": [
        "array([[ 0.58813,  0.89771,  0.89153],\n",
        "       [ 0.81584,  0.03589,  0.69176],\n",
        "       [ 0.37868,  0.51851,  0.65795]])"
       ]
      }
     ],
     "prompt_number": 56
    },
    {
     "cell_type": "code",
     "collapsed": false,
     "input": [
      "G = rn.randn(1, 5)\n",
      "G"
     ],
     "language": "python",
     "metadata": {},
     "outputs": [
      {
       "metadata": {},
       "output_type": "pyout",
       "prompt_number": 57,
       "text": [
        "array([[-0.62064, -0.83453,  0.91636,  0.70784,  0.41968]])"
       ]
      }
     ],
     "prompt_number": 57
    },
    {
     "cell_type": "markdown",
     "metadata": {},
     "source": [
      "At this point several variables have been created in the workspace.  You can obtain a list with the %who command, where the % indicates an IPython 'magic' command."
     ]
    },
    {
     "cell_type": "code",
     "collapsed": false,
     "input": [
      "%who"
     ],
     "language": "python",
     "metadata": {},
     "outputs": [
      {
       "output_type": "stream",
       "stream": "stdout",
       "text": [
        "A\t B\t C\t D\t E\t F\t G\t I3\t Y\t \n",
        "Z\t a\t am\t b\t c\t cm\t count\t g\t init_n\t \n",
        "n\t narray\t nl\t np\t rn\t v\t w\t x\t y\t \n",
        "\n"
       ]
      }
     ],
     "prompt_number": 58
    },
    {
     "cell_type": "markdown",
     "metadata": {},
     "source": [
      "The %whos magic will additionally give the types and some additional information"
     ]
    },
    {
     "cell_type": "code",
     "collapsed": false,
     "input": [
      "%whos"
     ],
     "language": "python",
     "metadata": {},
     "outputs": [
      {
       "output_type": "stream",
       "stream": "stdout",
       "text": [
        "Variable   Type           Data/Info\n",
        "-----------------------------------\n",
        "A          ndarray        3x3: 9 elems, type `int32`, 36 bytes\n",
        "B          ndarray        3x3: 9 elems, type `int32`, 36 bytes\n",
        "C          ndarray        3x4: 12 elems, type `int32`, 48 bytes\n",
        "D          ndarray        9x3: 27 elems, type `int32`, 108 bytes\n",
        "E          ndarray        7x3: 21 elems, type `int32`, 84 bytes\n",
        "F          ndarray        3x3: 9 elems, type `float64`, 72 bytes\n",
        "G          ndarray        1x5: 5 elems, type `float64`, 40 bytes\n",
        "I3         ndarray        3x3: 9 elems, type `float64`, 72 bytes\n",
        "Y          ndarray        3x5: 15 elems, type `float64`, 120 bytes\n",
        "Z          ndarray        2x2: 4 elems, type `float64`, 32 bytes\n",
        "a          ndarray        3: 3 elems, type `int32`, 12 bytes\n",
        "am         matrix         [[1 2 3]]\n",
        "b          ndarray        3: 3 elems, type `int32`, 12 bytes\n",
        "c          ndarray        3: 3 elems, type `int32`, 12 bytes\n",
        "cm         matrix         [[4 5 6]]\n",
        "count      int            111\n",
        "g          ndarray        3x3x3: 27 elems, type `float64`, 216 bytes\n",
        "init_n     int            27\n",
        "n          float          1.0\n",
        "narray     ndarray        1000: 1000 elems, type `float64`, 8000 bytes\n",
        "nl         module         <module 'numpy.linalg' fr<...>py\\\\linalg\\\\__init__.py'>\n",
        "np         module         <module 'numpy' from 'C:\\<...>ges\\\\numpy\\\\__init__.py'>\n",
        "rn         RandomState    <mtrand.RandomState object at 0x00000000070546C0>\n",
        "v          ndarray        6: 6 elems, type `int32`, 24 bytes\n",
        "w          ndarray        3: 3 elems, type `int32`, 12 bytes\n",
        "x          ndarray        3: 3 elems, type `float64`, 24 bytes\n",
        "y          ndarray        5: 5 elems, type `float64`, 40 bytes\n"
       ]
      }
     ],
     "prompt_number": 59
    },
    {
     "cell_type": "markdown",
     "metadata": {},
     "source": [
      "Like most languages Python has loop contructs.  The following example uses a for loop to evaluate the continued fraction  $\\cfrac{1}{1+\\cfrac{1}{1+\\cfrac{1}{1+\\cfrac{1}{1+\\cfrac{1}{1+\\cfrac{1}{1 + \\cfrac{1}{1 + \\cfrac{1}{1 + \\cfrac{1}{1 + \\cfrac{1}{1}}}}}}}}}}$\n"
     ]
    },
    {
     "cell_type": "markdown",
     "metadata": {},
     "source": [
      "which approximates the golden ratio, (1 + $\\sqrt{5}$)/2. The evaluation is done from the bottom up:"
     ]
    },
    {
     "cell_type": "code",
     "collapsed": false,
     "input": [
      "g = 2.\n",
      "for k in range(10):\n",
      "    g = 1 + 1 / g\n",
      "g"
     ],
     "language": "python",
     "metadata": {},
     "outputs": [
      {
       "metadata": {},
       "output_type": "pyout",
       "prompt_number": 60,
       "text": [
        "1.6180555555555556"
       ]
      }
     ],
     "prompt_number": 60
    },
    {
     "cell_type": "markdown",
     "metadata": {},
     "source": [
      "Many constants can be found in the scipy submodule constants.  You can access them in the following way"
     ]
    },
    {
     "cell_type": "code",
     "collapsed": false,
     "input": [
      "import scipy.constants as sconst\n",
      "sconst.golden"
     ],
     "language": "python",
     "metadata": {},
     "outputs": [
      {
       "metadata": {},
       "output_type": "pyout",
       "prompt_number": 61,
       "text": [
        "1.618033988749895"
       ]
      }
     ],
     "prompt_number": 61
    },
    {
     "cell_type": "markdown",
     "metadata": {},
     "source": [
      "Loops involving the while statement can be found later in this tutorial.\n",
      "\n",
      "The plot function from the matplotlib module pylab produce two dimensional pictures.  You can assess these ploting and graphics functions by importing this module.  It is a common practice to rename it to plt, as in the following example."
     ]
    },
    {
     "cell_type": "code",
     "collapsed": false,
     "input": [
      "#import mpld3\n",
      "#mpld3.enable_notebook()\n",
      "import matplotlib.pylab as plt\n",
      "t = np.arange(0, 1.005, 0.005)\n",
      "z = np.exp(10 * t * (t - 1)) * np.sin(12 * np.pi * t)\n",
      "plt.plot(t, z)\n",
      "plt.title(\"Figure 1.2. Basic 2D picture produced by plt.plot\")"
     ],
     "language": "python",
     "metadata": {},
     "outputs": [
      {
       "metadata": {},
       "output_type": "pyout",
       "prompt_number": 62,
       "text": [
        "<matplotlib.text.Text at 0x737d860>"
       ]
      },
      {
       "metadata": {},
       "output_type": "display_data",
       "png": "[encoded data removed]",
       "text": [
        "<matplotlib.figure.Figure at 0x710ba90>"
       ]
      }
     ],
     "prompt_number": 62
    },
    {
     "cell_type": "markdown",
     "metadata": {},
     "source": [
      "Here, plt.plot(t, z) joins the points t[i], z[i] using the default solid linetype.  Matplotlib opens a figure window in which the picture is displayed.  In this IPython notebook, the matplotlib figures are included 'in line' since the notebook was invoked with the \"ipython notebook --pylab=inline\" (the --pylab=inline option will be deprecated in the 3.0 notebook in favor of the **%matplotlib inline** cell magic) command.  When you are using IPython as a command line interpreter, after opening a plot figure window, you can close it in the normal way, ie by clicking on the x in the window title bar.\n",
      "\n",
      "You can produce a histogram with the function plt.hist"
     ]
    },
    {
     "cell_type": "code",
     "collapsed": false,
     "input": [
      "plt.hist(np.random.randn(1000))\n",
      "plt.title(\"Figure 1.3. Histogram produced by plt.hist.\")"
     ],
     "language": "python",
     "metadata": {},
     "outputs": [
      {
       "metadata": {},
       "output_type": "pyout",
       "prompt_number": 63,
       "text": [
        "<matplotlib.text.Text at 0x74034a8>"
       ]
      },
      {
       "metadata": {},
       "output_type": "display_data",
       "png": "[encoded data removed]",
       "text": [
        "<matplotlib.figure.Figure at 0x7371860>"
       ]
      }
     ],
     "prompt_number": 63
    },
    {
     "cell_type": "markdown",
     "metadata": {},
     "source": [
      "Here, hist is given 1000 points from the normal (0, 1) random number generator\n",
      "\n",
      "You are now ready for more challenging computations.  A random Fibonacci sequency {$x_{n}$} is generated by choosing $x_{1}$ and $x_{2}$ and setting\n",
      "\n",
      "$$  x_{n + 1} = x_{n} \\pm x_{n -1}, \\; n \\ge 2 $$\n",
      "\n",
      "Here, the $\\pm$ indicates that + and - must have equal probability of being chosen.  Viswanath [121] listed in [1] analyzed this recurrence and showed that, with probability 1, for large n the quantity $|x_{n}|$ increases like a multiple of $c^{n}$, where c = 1.13198824... (see also [25]).  You can test Viswanath's result as follows:"
     ]
    },
    {
     "cell_type": "code",
     "collapsed": false,
     "input": [
      "%reset -f\n",
      "import numpy as np\n",
      "import pylab as plt\n",
      "rd = np.random.RandomState()\n",
      "rd.seed(100)\n",
      "x = np.zeros(1000)\n",
      "x[0:2] = 1, 2\n",
      "for n in range(1, 999):\n",
      "    x[n + 1] = x[n] + np.sign(rd.rand(1) - 0.5) * x[n - 1]\n",
      "    \n",
      "xx = np.arange(1, 1001)\n",
      "plt.semilogy(xx, np.abs(x))\n",
      "c = 1.13198824\n",
      "plt.hold(True)\n",
      "plt.semilogy(xx, c ** xx)\n",
      "plt.title(\"Figure 1.4. Growth of a random Fibonacci sequence\")\n",
      "plt.hold(False)"
     ],
     "language": "python",
     "metadata": {},
     "outputs": [
      {
       "metadata": {},
       "output_type": "display_data",
       "png": "[encoded data removed]",
       "text": [
        "<matplotlib.figure.Figure at 0x7102ac8>"
       ]
      }
     ],
     "prompt_number": 64
    },
    {
     "cell_type": "markdown",
     "metadata": {},
     "source": [
      "Here, %reset -f removed all variables and imported modules from the workspace, which is why we needed to import numpy and pylab again. The for loop stores a random Fibonacci sequence in the array x; we preallocate x to the size needed and initial to zero using the np.zeros() function. The plt.semilogy function then plots n on the x-axis against $|X|$ on the y-axis, with logarithmic scaling for the y-axis. Typing np.hold(True) tells matplotlib to superimpose the next picture on top of the current one. The second semilogy plot produces a line of slope c. The overall picture, shown in Figure 1.4, is consistent with Viswanath\u2019s theory.\n",
      "\n",
      "We can make the above code into a command by writing it out to a file. If you cut and paste it into a file called fib.py, you can then run it in IPython by typing \"run fib\" or \"run fib.py\" to reproduce the above graph.\n",
      "\n",
      "However, you can experiment directly in this IPython notebook by changing any of the values and then hitting the 'play' button above.\n",
      "\n",
      "Our next example involved the Collatz iteration, which, given a positive integer $x_{1}$, has the form $x_{k + 1} = f(x_{k})$, where\n",
      "\n",
      "$$f(x) = \\left\\{\n",
      "  \\begin{array}{lr}\n",
      "    3x + 1 & :  x \\: \\% \\: 2 == 0\\\\\n",
      "    x/2 & : x \\: \\% \\: 2 == 1\n",
      "  \\end{array}\n",
      "\\right.\n",
      "$$\n",
      "\n",
      "Here $x \\: \\% \\: y$ is the modulus function of x and y, sometimes also written as mod(x, y).  It is the remainder of x when divided by y.  In this case $x \\: \\% \\: 2 == 0$, if true, means that x is even and if $x \\: \\% \\: 2 == 1$ is true, then x is odd.  Note that these are perfectly good Python functions"
     ]
    },
    {
     "cell_type": "code",
     "collapsed": false,
     "input": [
      "x = 3\n",
      "if x % 2 == 0:\n",
      "    print ('x is even')\n",
      "else:\n",
      "    print ('x is odd')"
     ],
     "language": "python",
     "metadata": {},
     "outputs": [
      {
       "output_type": "stream",
       "stream": "stdout",
       "text": [
        "x is odd\n"
       ]
      }
     ],
     "prompt_number": 65
    },
    {
     "cell_type": "markdown",
     "metadata": {},
     "source": [
      "But now returning to our quest, the equation above in words means:\n",
      "if $x$ is odd, replace it by $3x + 1$, and if $x$ is even, halve it. It has been conjectured that this iteration will always lead to a value of 1 (and hence thereafter cycle between 4, 2, and 1) whatever starting value $x_{1}$ is chosen. There is ample computational evidence to support this conjecture, which is variously known as the Collatz problem, the $3x + 1$ problem, the Syracuse problem, Kakutani\u2019s problem, Hasse\u2019s algorithm, and Ulam\u2019s problem. However, a rigorous proof has so far eluded mathematicians. For further details, see [63] listed in [1] or type \u201cCollatz problem\u201d into your favorite Web search engine. You can investigate the conjecture by creating the python script \ufb01le collatz.py shown below. In this file a while loop and an if statement are used to implement the iteration. You can run this in the notebook simply by changing the value of n and hitting the play button.  Or, you can save this to a file named collatz.py (remembering to uncommment out the line '#n = int(raw_input...\" and commenting out the line \"n = 27\". Then, from the IPython shell prompt, type \"run collatz\". The input command prompts you for a starting value. The appropriate response is to type an integer and then hit return."
     ]
    },
    {
     "cell_type": "code",
     "collapsed": false,
     "input": [
      "#COLLATZ Collatz iteration. \n",
      "\n",
      "#n = int(raw_input(\u2019Enter an integer bigger than 2: \u2019))\n",
      "init_n = n = 27\n",
      "narray = np.zeros(1000)  # only a maximum of 1000 iterations\n",
      "narray[0] = n\n",
      "count = 0\n",
      "while n != 1:\n",
      "    if n % 2 == 1:  # Remainder modulo 2. \n",
      "        n = 3 * n + 1\n",
      "    else:\n",
      "        n = n / 2\n",
      "    count += 1\n",
      "    narray[count] = n  # Store the current iterate\n",
      "\n",
      "# Plot with * marker and solid line style.\n",
      "# Only plot the non zero entries in narray\n",
      "plt.plot(narray[narray != 0], '*-')\n",
      "plt.title('Figure 1.5. Collatz iteration starting at %d' % init_n)"
     ],
     "language": "python",
     "metadata": {},
     "outputs": [
      {
       "metadata": {},
       "output_type": "pyout",
       "prompt_number": 66,
       "text": [
        "<matplotlib.text.Text at 0x7375080>"
       ]
      },
      {
       "metadata": {},
       "output_type": "display_data",
       "png": "[encoded data removed]",
       "text": [
        "<matplotlib.figure.Figure at 0x758abe0>"
       ]
      }
     ],
     "prompt_number": 66
    },
    {
     "cell_type": "markdown",
     "metadata": {},
     "source": [
      "A couple of things you should note about the code above.  This first is that it will fail if the number of iterations goes beyond 1000.  For most of the inputs I have tried, it 'converged' in under 200 iterations.  But you should try to break it!  The second thing to note is that we only want to plot the non zero values.  All the zero values at the end of the array add no new information and we want to drop them.  That is easily accomplished by using the narray[narray != 0] syntax which selects only the non-zero values out of narray.\n",
      "\n",
      "To investigate the Collatz problem further, the script collbar in the next listing plots a bar graph of the number of iterations required to reach the value 1, for starting Values 1,2,. . . ,29. The result is shown in Figure 1.6. For this picture, the function plt.grid adds grid lines that extend from the axis tick marks, while plt.title, plt.xlabel, and plt.ylabel add further information. "
     ]
    },
    {
     "cell_type": "code",
     "collapsed": false,
     "input": [
      "#COLLBAR Collatz iteration bar graph.\n",
      "N = 29 # Use starting values 1,2,...,N.\n",
      "niter = np.zeros(N);  # Preallocate array.\n",
      "for i in range(N):\n",
      "    count = 0\n",
      "    n = i + 1\n",
      "    while n != 1:\n",
      "        if n % 2 == 1:\n",
      "            n = 3 * n + 1\n",
      "        else:\n",
      "            n = n / 2\n",
      "\n",
      "        count += 1\n",
      "    niter[i] = count\n",
      "\n",
      "left = np.arange(29)\n",
      "plt.bar(left, niter) # Bar graph.\n",
      "plt.grid()   # Add horizontal and vertical grid lines.\n",
      "plt.title('Figure 1.6. Col1atz iteration counts')\n",
      "plt.xlabel('Starting value') # Label X-axis.\n",
      "plt.ylabel('Number of iterations')  #Label y-axis."
     ],
     "language": "python",
     "metadata": {},
     "outputs": [
      {
       "metadata": {},
       "output_type": "pyout",
       "prompt_number": 67,
       "text": [
        "<matplotlib.text.Text at 0x73951d0>"
       ]
      },
      {
       "metadata": {},
       "output_type": "display_data",
       "png": "[encoded data removed]",
       "text": [
        "<matplotlib.figure.Figure at 0x74090f0>"
       ]
      }
     ],
     "prompt_number": 67
    },
    {
     "cell_type": "markdown",
     "metadata": {},
     "source": [
      "The Well-known and much studied Mandelbrot set can be approximated graphically in just a few lines of Python/Numpy. It is de\ufb01ned as the set of points c in the complex plane for which the sequence generated by the map $z \\mapsto z^{2} + c$, starting with $z = c$, remains bounded [91, Chap. 14] listed in [1]. The script mandel in the next listing produces the plot of the Mandelbrot set shown in Figure 1.7. The script contains calls to np.linspace of the form np.linspace (a, b ,n), which generate an equally spaced vector of n values between a and b. The meshgrid and complex functions are used to construct a matrix C that represents the rectangular region of interest in the complex plane. The plot itself is produced by plt.contourf, which plots a \ufb01lled contour. The expression $abs(Z)<Z\\_max$ in the call to contourf detects points that have not exceeded the threshold Z_max and that are therefore assumed to lie in the Mandelbrot set; the double function is applied in order to convert the resulting logical array to numeric form. You can experiment with mandel by changing the region that is plotted, via the linspace calls, the number of iterations it_max, and the threshold Z_max.  Also note that on some runs we may see a RuntimeWarning printed becase we have an overflow on z.  This can be silenced with a context manager but we will wait to introduce detailed control of errors and warnings."
     ]
    },
    {
     "cell_type": "code",
     "collapsed": false,
     "input": [
      "#MANDEL Mandelbrot set.\n",
      "\n",
      "x = np.linspace(-2.1, 0.6, 301)\n",
      "y = np.linspace(-1.1, 1.1, 301)\n",
      "[X,Y] = np.meshgrid(x, y)\n",
      "C = X + 1j * Y\n",
      "\n",
      "Z_max = 1e6\n",
      "it_max = 50\n",
      "Z = C\n",
      "\n",
      "for k in range(it_max):\n",
      "    Z = Z ** 2 + C\n",
      "\n",
      "plt.contourf(x, y, np.float64(np.abs(Z) < Z_max))\n",
      "plt.title(\"Figure 1.7  Mandelbrot Set\")"
     ],
     "language": "python",
     "metadata": {},
     "outputs": [
      {
       "output_type": "stream",
       "stream": "stderr",
       "text": [
        "-c:13: RuntimeWarning: overflow encountered in square\n",
        "-c:13: RuntimeWarning: invalid value encountered in square\n",
        "-c:15: RuntimeWarning: invalid value encountered in less\n"
       ]
      },
      {
       "metadata": {},
       "output_type": "pyout",
       "prompt_number": 68,
       "text": [
        "<matplotlib.text.Text at 0x7553fd0>"
       ]
      },
      {
       "metadata": {},
       "output_type": "display_data",
       "png": "[encoded data removed]",
       "text": [
        "<matplotlib.figure.Figure at 0x705beb8>"
       ]
      }
     ],
     "prompt_number": 68
    },
    {
     "cell_type": "markdown",
     "metadata": {},
     "source": [
      "Next we solve the ordinary differential equation (ODE) system\n",
      "\n",
      "$$   d/dt \\; y_{1}(t) =  10 (y_{2}(t) - y_{1}(t)),$$\n",
      "$$ $$\n",
      "$$   d/dt \\; y_{2}(t) =  28 y_{1}(t) - y_{2}(t) - y_{1}(t) y_{3}(t),$$\n",
      "$$ $$\n",
      "$$   d/dt \\; y_{3}(t) = y_{1}(t) y_{2}(t) - 8 y_{3}(t) / 3.  $$\n",
      "\n",
      "This is an example from the Lorenz equations family; see [H1] listed in [1]. We take initial conditions y(0) = [0, 1, 0] and solve over $0 \\le t \\le 50$. The next listing, titled Lorentz, is an example of a Python function. Given t and y, this function returns the right-hand side of the ODE as the vector **yprime**. This is the form required by Scipy\u2019s ODE solving functions. The rest of the listing uses the scipy function odeint to solve the ODE numerically and then produces the (y1, y3) phase plane plot shown in Figure 1.8. You can try different values of the constants defining the derivatives to see what happens.  For instance, change the 3 to an 8 in lorenzde and observe how the plot changes"
     ]
    },
    {
     "cell_type": "code",
     "collapsed": false,
     "input": [
      "import scipy.integrate as si\n",
      "\n",
      "def lorenzde(y, t):\n",
      "    '''LORENZDE Lorenz equations.\n",
      "        YPRIME = LORENZDE(Y,T)\n",
      "    '''\n",
      "    yprime = np.array([10. * (y[1] - y[0]), 28. * y[0] - y[1] - y[0] * y[2], \n",
      "                       y[0] * y[1] - 8. * y[2] / 3.])\n",
      "    return yprime\n",
      "\n",
      "#lrun    ODE solving example:  Lortez.\n",
      "\n",
      "t = np.arange(0, 50.01, .01)  # time points on which to solve\n",
      "yzero = np.array([0., 1., 0.])\n",
      "print (len(yzero))\n",
      "y = si.odeint(lorenzde, yzero, t)\n",
      "\n",
      "plt.plot(y[:, 0], y[:, 2])\n",
      "plt.xlabel('y_0')\n",
      "plt.ylabel('y_2')\n",
      "plt.title('Figure 1.8  Lorenz equations')"
     ],
     "language": "python",
     "metadata": {},
     "outputs": [
      {
       "output_type": "stream",
       "stream": "stdout",
       "text": [
        "3\n"
       ]
      },
      {
       "metadata": {},
       "output_type": "pyout",
       "prompt_number": 69,
       "text": [
        "<matplotlib.text.Text at 0x762fba8>"
       ]
      },
      {
       "metadata": {},
       "output_type": "display_data",
       "png": "[encoded data removed]",
       "text": [
        "<matplotlib.figure.Figure at 0x7359c18>"
       ]
      }
     ],
     "prompt_number": 69
    },
    {
     "cell_type": "markdown",
     "metadata": {},
     "source": [
      "Now we give an example of a recursive function, that is, a function that calls itself. The Sierpinski gasket [90, Sec. 2.2] listed in [1] is based on the following process. Given a triangle with vertices $P_{a}$, $P_{b}$, and $P_{c}$, We remove the triangle with vertices at the midpoints of the edges, $(P_{a} + P_{b})/2$, $(P_{b} + P_{c}) / 2$, and $(P_{c} + P_{a}) / 2$. This removes the \u201cmiddle quarter\u201d of the triangle, as illustrated in Figure 1.9. (The code in the function 'gasket' will be explained below)"
     ]
    },
    {
     "cell_type": "code",
     "collapsed": false,
     "input": [
      "def gasket(pa, pb, pc, level):\n",
      "    '''\n",
      "    GASKET Recursively generated Sierpinski gasket. \n",
      "    GASKET(PA, PB, PC, LEVEL) generates an approximation to \n",
      "    the Sierpinski gasket, where the 2-vectors PA, PB, and PC Z define the triangle vertices. \n",
      "    LEVEL is the level of recursion.\n",
      "    '''\n",
      "    if level == 0:\n",
      "        # Fill the triangle with vertices Pa, Pb, Pc. \n",
      "        plt.fill([pa[0], pb[0], pc[0]], [pa[1], pb[1], pc[1]], 'g') \n",
      "        plt.hold(True)\n",
      "    else:\n",
      "        # Recursive calls for the three subtriangles. \n",
      "        gasket(pa, (pa + pb) / 2., (pa + pc) / 2., level - 1) \n",
      "        gasket(pb, (pb + pa) / 2., (pb + pc) / 2., level - 1) \n",
      "        gasket(pc, (pc + pa) / 2., (pc + pb) / 2., level - 1)\n",
      "        \n",
      "pa = np.array([0, 0])\n",
      "pb = np.array([1, 0])\n",
      "pc = np.array([0.5, np.sqrt(3)/2.])\n",
      "level = 1\n",
      "gasket(pa, pb, pc, level)\n",
      "plt.hold(False)\n",
      "plt.title(\"Figure 1.9  Gasket level = 1\")\n",
      "plt.axis('equal')"
     ],
     "language": "python",
     "metadata": {},
     "outputs": [
      {
       "metadata": {},
       "output_type": "pyout",
       "prompt_number": 70,
       "text": [
        "(0.0, 1.0, 0.0, 0.90000000000000002)"
       ]
      },
      {
       "metadata": {},
       "output_type": "display_data",
       "png": "[encoded data removed]",
       "text": [
        "<matplotlib.figure.Figure at 0x76290f0>"
       ]
      }
     ],
     "prompt_number": 70
    },
    {
     "cell_type": "markdown",
     "metadata": {},
     "source": [
      "Effectively, we have replaced the original triangle with three \u201csubtriangles\u201d. We can now apply the middle quarter removal process to each of these subtriangles to generate nine subsubtriangles, and so on. The Sierpinski gasket is the set of all points that are never removed by repeated application of this process. The function gasket in the listing above implements the removal process. The input arguments $P\\_{a}$, $P\\_{b}$, and $P\\_{c}$ de\ufb01ne the vertices of the triangle and level speci\ufb01es how many times the process is to be applied. If level is nonzero then gasket calls itself three times with level reduced by 1, once for each of the three subtriangles. When level \ufb01nally reaches zero, the recursion 'bottoms-out' and the appropriate triangle is drawn. The following code generates Figure 1.10."
     ]
    },
    {
     "cell_type": "code",
     "collapsed": false,
     "input": [
      "level = 5\n",
      "gasket(pa, pb, pc, level)\n",
      "plt.hold(False)\n",
      "plt.title(\"Figure 1.10  Gasket level = 5\")\n",
      "plt.axis('equal')"
     ],
     "language": "python",
     "metadata": {},
     "outputs": [
      {
       "metadata": {},
       "output_type": "pyout",
       "prompt_number": 71,
       "text": [
        "(0.0, 1.0, 0.0, 0.90000000000000002)"
       ]
      },
      {
       "metadata": {},
       "output_type": "display_data",
       "png": "[encoded data removed]",
       "text": [
        "<matplotlib.figure.Figure at 0x758a160>"
       ]
      }
     ],
     "prompt_number": 71
    },
    {
     "cell_type": "markdown",
     "metadata": {},
     "source": [
      "(Figure 1.9 was generated in the same way with level = 1.) In the last line, the call to axis makes the units of the $x-$ and $y\u2014$axes equal and turns off the axes and their labels. You should experiment with different initial Vertices $P_{a}$, $P_{b}$, and $P_{c}$, and diiferent levels of recursion, but keep in mind that setting level bigger than 8 may overstretch either your patience or your computer\u2019s resources."
     ]
    },
    {
     "cell_type": "markdown",
     "metadata": {},
     "source": [
      "The Sierpinski gasket can also be generated by playing Barnsley\u2019s \u201cchaos game\u201d [90, Sec. 1.3] listed in [1]. We choose one of the vertices of a triangle as a starting point. Then we pick one of the three vertices at random, take the midpoint of the line joining this vertex with the starting point and plot this new point. Then we take the midpoint of the line joining this point and a randomly chosen vertex as the next point, which is plotted, and the process continues. The script barnsley in Listing 1.8 implements the game. Figure 1.11 shows the result of choosing 1000 iterations: "
     ]
    },
    {
     "cell_type": "code",
     "collapsed": false,
     "input": [
      "#BARNSLEY Barnsley\u2019s game to compute Sierpinski gasket. \n",
      "\n",
      "rd = np.random.RandomState()  # Initialize a new RandomState object\n",
      "rd.seed(1)                    # and (re)set the seed\n",
      "\n",
      "V = np.c_[[0, 0], [1, 0], [0.5, np.sqrt(3)/2]] # Columns give triangle vertices. \n",
      "point = V[:, 0]                    # Start at a Vertex. \n",
      "\n",
      "n = 1000     #  Change this number to experiment\n",
      "\n",
      "for k in range(n):\n",
      "    node = int(np.ceil(3 * np.random.rand()) - 1) # node is 0, 1, or 2 with equal prob. \n",
      "    point = (V[:, node] + point)/2; \n",
      "    plt.plot(point[0], point[1], \".\", markersize=15) \n",
      "    plt.hold(True)\n",
      "\n",
      "plt.axis('equal') \n",
      "plt.hold(False)"
     ],
     "language": "python",
     "metadata": {},
     "outputs": [
      {
       "metadata": {},
       "output_type": "display_data",
       "png": "[encoded data removed]",
       "text": [
        "<matplotlib.figure.Figure at 0x91317b8>"
       ]
      }
     ],
     "prompt_number": 72
    },
    {
     "cell_type": "markdown",
     "metadata": {},
     "source": [
      "Try experimenting with the number of points, $n$, the type and size of marker in the plot command, and the location of the starting point.\n",
      "\n",
      "We \ufb01nish with the listing of sweep, which generates a volume\u2014swept three\u2014dimensional (3D) object; see Figure 1.12. Here, the command surf (X,Y,Z) creates a 3D surface where the height Z[i, j] is speci\ufb01ed at the point (X[i, j] ,Y[i, j]) in the x-y plane. The script is not written in the most obvious fashion, which would use two nested for loops. Instead it is vectorized. To understand how it works you will need to be familiar with Chapter 5 and 21.4 of reference [1]. You can experiment with the script by changing the parameter N and the function that determines the variable radius: try replacing sqrt by other functions, such as log, sin, or abs."
     ]
    },
    {
     "cell_type": "code",
     "collapsed": false,
     "input": [
      "#  SWEEP   Generates a volume-swept 3D object.\n",
      "import numpy as np\n",
      "import matplotlib.pylab as pld\n",
      "from mpl_toolkits.mplot3d import Axes3D\n",
      "from matplotlib import cm\n",
      "from matplotlib.ticker import LinearLocator, FormatStrFormatter\n",
      "\n",
      "fig = plt.figure()\n",
      "ax = fig.gca(projection='3d')\n",
      "\n",
      "n = 10      # Number of increments - try increasing\n",
      "\n",
      "zz = np.linspace(-5, 5, n).reshape(n, 1)\n",
      "radius = np.sqrt(1 + zz ** 2)    # Try changing sqrt to cos, sin, log or abs\n",
      "theta = 2 * np.pi * np.linspace(0, 1, n)\n",
      "x = radius * np.cos(theta)\n",
      "y = radius * np.sin(theta)\n",
      "z = zz[:, n * [0]]   #  Tony's trick!   Who is Tony?  No idea.\n",
      "\n",
      "surf = ax.plot_surface(x, y, z, rstride=1, cstride=1, cmap=cm.coolwarm,\n",
      "        linewidth=.2, antialiased=True)\n",
      "\n",
      "fig.colorbar(surf, shrink=0.5, aspect=5)\n",
      "\n",
      "plt.title('Figure 1.12  3D picture produced by sweep')"
     ],
     "language": "python",
     "metadata": {},
     "outputs": [
      {
       "metadata": {},
       "output_type": "pyout",
       "prompt_number": 73,
       "text": [
        "<matplotlib.text.Text at 0x9f6b320>"
       ]
      },
      {
       "metadata": {},
       "output_type": "display_data",
       "png": "[encoded data removed]",
       "text": [
        "<matplotlib.figure.Figure at 0x7436438>"
       ]
      }
     ],
     "prompt_number": 73
    },
    {
     "cell_type": "markdown",
     "metadata": {},
     "source": [
      ">[1] D. J. Higham and N. J. Higham.  \n",
      ">[MATLAB Guide](http://www.ec-securehost.com/SIAM/ot92.html), Second edition,  \n",
      ">Society for Industrial and Applied Mathematics, Philadelphia, PA, USA,  \n",
      ">2005, ISBN 0-89871-578-4 \n\n",
      ">[2] Fernando Pérez, Brian E. Granger, IPython: A System for Interactive Scientific \n",
      ">Computing, Computing in Science and Engineering, vol. 9, no. 3, pp. 21-29, May/June 2007, \n",
      ">doi:10.1109/MCSE.2007.53. URL: http://ipython.org"
     ]
    }
   ],
   "metadata": {}
  }
 ]
}